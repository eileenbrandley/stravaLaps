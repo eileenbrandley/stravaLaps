{
 "cells": [
  {
   "cell_type": "code",
   "execution_count": 1,
   "metadata": {},
   "outputs": [],
   "source": [
    "import pandas as pd\n",
    "import numpy as np\n",
    "import os\n",
    "import sys"
   ]
  },
  {
   "cell_type": "code",
   "execution_count": 2,
   "metadata": {},
   "outputs": [],
   "source": [
    "def array_to_nested_dict(key, input_array):\n",
    "    output_dict = {}\n",
    "\n",
    "    for d in input_array:\n",
    "        k = d[key]\n",
    "        if k in output_dict:\n",
    "            del d[key]\n",
    "            output_dict[k].append(d)\n",
    "        else:\n",
    "            del d[key]\n",
    "            output_dict[k] = [d]\n",
    "    return output_dict"
   ]
  },
  {
   "cell_type": "code",
   "execution_count": 3,
   "metadata": {},
   "outputs": [],
   "source": [
    "def iterate_through_keys(myDict, keys):\n",
    "    this_key = keys[0]\n",
    "    for k, v in myDict.items():\n",
    "        myDict[k] = array_to_nested_dict(this_key, v)\n",
    "    if len(keys) > 1:\n",
    "        return iterate_through_keys(myDict[k], keys[1:])"
   ]
  },
  {
   "cell_type": "code",
   "execution_count": 4,
   "metadata": {},
   "outputs": [],
   "source": [
    "input_array = [\n",
    "  {\"country\": \"US\", \"city\": \"Boston\", \"currency\": \"USD\", \"amount\": 100},\n",
    "  {\"country\": \"FR\", \"city\": \"Paris\", \"currency\": \"EUR\", \"amount\": 20},\n",
    "  {\"country\": \"FR\", \"city\": \"Lyon\", \"currency\": \"EUR\", \"amount\": 11.4},\n",
    "  {\"country\": \"ES\", \"city\": \"Madrid\", \"currency\": \"EUR\", \"amount\": 8.9},\n",
    "  {\"country\": \"UK\", \"city\": \"London\", \"currency\": \"GBP\", \"amount\": 12.2},\n",
    "  {\"country\": \"UK\", \"city\": \"London\", \"currency\": \"FBP\", \"amount\": 10.9}\n",
    "]"
   ]
  },
  {
   "cell_type": "code",
   "execution_count": 10,
   "metadata": {},
   "outputs": [
    {
     "name": "stdout",
     "output_type": "stream",
     "text": [
      "Here\n"
     ]
    }
   ],
   "source": [
    "keys = []\n",
    "if not None:\n",
    "    print(\"Here\")\n",
    "else:\n",
    "    print(\"Nope\")"
   ]
  },
  {
   "cell_type": "code",
   "execution_count": 6,
   "metadata": {},
   "outputs": [],
   "source": [
    "keys = ['currency', 'country', 'city']\n",
    "\n",
    "output_dict = array_to_nested_dict(keys[0], input_array)\n",
    "iterate_through_keys(output_dict, keys[1:])"
   ]
  },
  {
   "cell_type": "code",
   "execution_count": 7,
   "metadata": {},
   "outputs": [
    {
     "data": {
      "text/plain": [
       "{'USD': {'US': [{'city': 'Boston', 'amount': 100}]},\n",
       " 'EUR': {'FR': [{'city': 'Paris', 'amount': 20},\n",
       "   {'city': 'Lyon', 'amount': 11.4}],\n",
       "  'ES': [{'city': 'Madrid', 'amount': 8.9}]},\n",
       " 'GBP': {'UK': [{'city': 'London', 'amount': 12.2}]},\n",
       " 'FBP': {'UK': {'London': [{'amount': 10.9}]}}}"
      ]
     },
     "execution_count": 7,
     "metadata": {},
     "output_type": "execute_result"
    }
   ],
   "source": [
    "output_dict"
   ]
  },
  {
   "cell_type": "code",
   "execution_count": 16,
   "metadata": {},
   "outputs": [],
   "source": [
    "import json"
   ]
  },
  {
   "cell_type": "code",
   "execution_count": 20,
   "metadata": {},
   "outputs": [],
   "source": [
    "myString = '{\"data\": [{'A': 'aardvark', 'B': 'boat', 'C': 'cabbage', 'D': 'diego costa'}, {'A': 'aardvark', 'B': 'ball', 'C': 'crisps', 'D': 'david beckham'},{'A': 'ant', 'B': 'ball', 'C': 'chocolate', 'D': 'dennis bergkamp'}, {'A': 'ant', 'B': 'bat', 'C': 'chocolate', 'D': 'declan rice'}]}\"\n",
    "\n",
    "\n"
   ]
  },
  {
   "cell_type": "code",
   "execution_count": 21,
   "metadata": {},
   "outputs": [
    {
     "ename": "JSONDecodeError",
     "evalue": "Expecting property name enclosed in double quotes: line 1 column 2 (char 1)",
     "output_type": "error",
     "traceback": [
      "\u001b[0;31m---------------------------------------------------------------------------\u001b[0m",
      "\u001b[0;31mJSONDecodeError\u001b[0m                           Traceback (most recent call last)",
      "\u001b[0;32m<ipython-input-21-1f25276d75f2>\u001b[0m in \u001b[0;36m<module>\u001b[0;34m()\u001b[0m\n\u001b[0;32m----> 1\u001b[0;31m \u001b[0mjson\u001b[0m\u001b[0;34m.\u001b[0m\u001b[0mloads\u001b[0m\u001b[0;34m(\u001b[0m\u001b[0mmyString\u001b[0m\u001b[0;34m)\u001b[0m\u001b[0;34m\u001b[0m\u001b[0m\n\u001b[0m",
      "\u001b[0;32m/usr/local/Cellar/python/3.7.0/Frameworks/Python.framework/Versions/3.7/lib/python3.7/json/__init__.py\u001b[0m in \u001b[0;36mloads\u001b[0;34m(s, encoding, cls, object_hook, parse_float, parse_int, parse_constant, object_pairs_hook, **kw)\u001b[0m\n",
      "\u001b[0;32m/usr/local/Cellar/python/3.7.0/Frameworks/Python.framework/Versions/3.7/lib/python3.7/json/decoder.py\u001b[0m in \u001b[0;36mdecode\u001b[0;34m(self, s, _w)\u001b[0m\n",
      "\u001b[0;32m/usr/local/Cellar/python/3.7.0/Frameworks/Python.framework/Versions/3.7/lib/python3.7/json/decoder.py\u001b[0m in \u001b[0;36mraw_decode\u001b[0;34m(self, s, idx)\u001b[0m\n",
      "\u001b[0;31mJSONDecodeError\u001b[0m: Expecting property name enclosed in double quotes: line 1 column 2 (char 1)"
     ]
    }
   ],
   "source": [
    "json.loads(myString)"
   ]
  },
  {
   "cell_type": "code",
   "execution_count": 25,
   "metadata": {},
   "outputs": [
    {
     "data": {
      "text/plain": [
       "['A', 'B']"
      ]
     },
     "execution_count": 25,
     "metadata": {},
     "output_type": "execute_result"
    }
   ],
   "source": [
    "def parse_request_params(p):\n",
    "    return p.split(',')\n",
    "\n",
    "parse_request_params('A,B')"
   ]
  }
 ],
 "metadata": {
  "kernelspec": {
   "display_name": "Python 3",
   "language": "python",
   "name": "python3"
  },
  "language_info": {
   "codemirror_mode": {
    "name": "ipython",
    "version": 3
   },
   "file_extension": ".py",
   "mimetype": "text/x-python",
   "name": "python",
   "nbconvert_exporter": "python",
   "pygments_lexer": "ipython3",
   "version": "3.7.3"
  }
 },
 "nbformat": 4,
 "nbformat_minor": 2
}
