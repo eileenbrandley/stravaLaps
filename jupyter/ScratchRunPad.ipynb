{
 "cells": [
  {
   "cell_type": "code",
   "execution_count": 1,
   "metadata": {},
   "outputs": [],
   "source": [
    "import pandas as pd\n",
    "import numpy as np\n",
    "import matplotlib.pyplot as plt\n",
    "import os\n",
    "import sys\n",
    "import json\n",
    "\n",
    "import polygon \n",
    "import gpx\n",
    "import sql\n",
    "import model "
   ]
  },
  {
   "cell_type": "code",
   "execution_count": 2,
   "metadata": {},
   "outputs": [],
   "source": [
    "cp_filepath = \"../data/geojson/the_bridle.json\"\n",
    "run_filepath = \"../data/stravaGPX/AnotherBridleContribution.gpx\"\n",
    "run2_filepath = \"../data/stravaGPX/MorningOnTheRes.gpx\""
   ]
  },
  {
   "cell_type": "code",
   "execution_count": 3,
   "metadata": {},
   "outputs": [],
   "source": [
    "def get_geojson(filepath):\n",
    "    file = open(filepath, \"r\") \n",
    "    return json.load(file)\n",
    "\n",
    "def get_coordinates_json(filepath):\n",
    "    data = get_geojson(filepath)\n",
    "    return data\n",
    "\n",
    "def get_coordinates_list(filepath, p=True):\n",
    "    data = get_coordinates_json(filepath)['features'][0]['geometry']['coordinates']\n",
    "    if p:\n",
    "        return data[0]\n",
    "    return data"
   ]
  },
  {
   "cell_type": "code",
   "execution_count": 4,
   "metadata": {},
   "outputs": [],
   "source": [
    "data = get_coordinates_list(cp_filepath)"
   ]
  },
  {
   "cell_type": "code",
   "execution_count": null,
   "metadata": {},
   "outputs": [],
   "source": [
    "f = gpx.coordinates_dataframe_from_gpx(run2_filepath)"
   ]
  },
  {
   "cell_type": "code",
   "execution_count": null,
   "metadata": {},
   "outputs": [],
   "source": [
    "df = f.assign(inside=lambda d: d.apply(polygon.row_inside_polygon, args=[data], axis=1))"
   ]
  },
  {
   "cell_type": "code",
   "execution_count": null,
   "metadata": {},
   "outputs": [],
   "source": [
    "totals = polygon.twoD_total_inside_polygon(df)"
   ]
  },
  {
   "cell_type": "code",
   "execution_count": null,
   "metadata": {},
   "outputs": [],
   "source": [
    "d = (2019, 9, 21)\n",
    "distance = int(totals['distance'])\n",
    "time = totals['time_delta'].seconds\n",
    "model.add_run_from_athlete('eileen', d, distance, time)"
   ]
  },
  {
   "cell_type": "code",
   "execution_count": 5,
   "metadata": {},
   "outputs": [],
   "source": [
    "from stravalib.client import Client"
   ]
  },
  {
   "cell_type": "code",
   "execution_count": 6,
   "metadata": {},
   "outputs": [],
   "source": [
    "\n",
    "TYPES = ['time', 'latlng', 'altitude', 'heartrate', 'temp', ]"
   ]
  },
  {
   "cell_type": "code",
   "execution_count": 7,
   "metadata": {},
   "outputs": [],
   "source": [
    "client = Client(access_token=TOKEN)\n",
    "activities = client.get_activities(limit=10)"
   ]
  },
  {
   "cell_type": "code",
   "execution_count": 8,
   "metadata": {},
   "outputs": [],
   "source": [
    "a = list(activities)"
   ]
  },
  {
   "cell_type": "code",
   "execution_count": 9,
   "metadata": {},
   "outputs": [],
   "source": [
    "i = a[0].id"
   ]
  },
  {
   "cell_type": "code",
   "execution_count": 54,
   "metadata": {},
   "outputs": [],
   "source": [
    "import datetime\n",
    "def calculate_epoch(y, m, d):\n",
    "    return int(datetime.datetime(y, m, d, 0, 0, tzinfo=datetime.timezone.utc).timestamp())\n",
    "\n",
    "def get_strava_date(date):\n",
    "    \"There is a nicer way to do this but this is fine for now\"\n",
    "    return calculate_epoch(*[int(d) for d in date.split(\"T\")[0].split(\"-\")])"
   ]
  },
  {
   "cell_type": "code",
   "execution_count": 25,
   "metadata": {},
   "outputs": [],
   "source": [
    "def get_strava_gpx_dataframe(activity_id, client, types=['time', 'latlng', 'altitude']):\n",
    "    streams = client.get_activity_streams(activity_id, resolution='medium', types=types)\n",
    "    latlng = pd.DataFrame(streams['latlng'].data, columns=['latitude', 'longitude'])\n",
    "    time = pd.DataFrame(streams['time'].data, columns=['time'])\n",
    "    if 'altitude' in streams:\n",
    "        altitude = pd.DataFrame(streams['altitude'].data, columns=['elevation'])\n",
    "        return pd.concat([latlng, altitude, time], axis=1)\n",
    "    return pd.concat([latlng, altitude, time])"
   ]
  },
  {
   "cell_type": "code",
   "execution_count": 29,
   "metadata": {},
   "outputs": [],
   "source": [
    "def strava_run_in_polygon(activity_id, client, types):\n",
    "    return (\n",
    "        get_strava_gpx_dataframe(activity_id, client, types)\n",
    "        .assign(inside=lambda d: d.apply(polygon.row_inside_polygon, args=[data], axis=1))\n",
    "    )"
   ]
  },
  {
   "cell_type": "code",
   "execution_count": 30,
   "metadata": {},
   "outputs": [],
   "source": [
    "data = get_coordinates_list(cp_filepath)\n",
    "strava = strava_run_in_polygon(i, client, TYPES)"
   ]
  },
  {
   "cell_type": "code",
   "execution_count": 55,
   "metadata": {},
   "outputs": [],
   "source": [
    "s = polygon.totals_inside_polygon(strava)"
   ]
  },
  {
   "cell_type": "code",
   "execution_count": 67,
   "metadata": {},
   "outputs": [
    {
     "data": {
      "text/plain": [
       "datetime.datetime(2019, 12, 31, 0, 0)"
      ]
     },
     "execution_count": 67,
     "metadata": {},
     "output_type": "execute_result"
    }
   ],
   "source": [
    "datetime.datetime.strptime(\"2019_12_31\", '%Y_%m_%d')"
   ]
  }
 ],
 "metadata": {
  "kernelspec": {
   "display_name": "venv",
   "language": "python",
   "name": "venv"
  },
  "language_info": {
   "codemirror_mode": {
    "name": "ipython",
    "version": 3
   },
   "file_extension": ".py",
   "mimetype": "text/x-python",
   "name": "python",
   "nbconvert_exporter": "python",
   "pygments_lexer": "ipython3",
   "version": "3.7.3"
  }
 },
 "nbformat": 4,
 "nbformat_minor": 2
}
