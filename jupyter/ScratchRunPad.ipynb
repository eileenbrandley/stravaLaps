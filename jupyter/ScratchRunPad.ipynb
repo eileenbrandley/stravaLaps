{
 "cells": [
  {
   "cell_type": "code",
   "execution_count": 1,
   "metadata": {},
   "outputs": [],
   "source": [
    "import pandas as pd\n",
    "import numpy as np\n",
    "import matplotlib.pyplot as plt\n",
    "import os\n",
    "import sys\n",
    "import json\n",
    "\n",
    "import polygon \n",
    "import gpx\n",
    "import sql\n",
    "import model "
   ]
  },
  {
   "cell_type": "code",
   "execution_count": 2,
   "metadata": {},
   "outputs": [],
   "source": [
    "cp_filepath = \"../data/geojson/the_bridle.json\"\n",
    "run_filepath = \"../data/stravaGPX/AnotherBridleContribution.gpx\"\n",
    "run2_filepath = \"../data/stravaGPX/MorningOnTheRes.gpx\""
   ]
  },
  {
   "cell_type": "code",
   "execution_count": 3,
   "metadata": {},
   "outputs": [],
   "source": [
    "def get_geojson(filepath):\n",
    "    file = open(filepath, \"r\") \n",
    "    return json.load(file)\n",
    "\n",
    "def get_coordinates_json(filepath):\n",
    "    data = get_geojson(filepath)\n",
    "    return data\n",
    "\n",
    "def get_coordinates_list(filepath, p=True):\n",
    "    data = get_coordinates_json(filepath)['features'][0]['geometry']['coordinates']\n",
    "    if p:\n",
    "        return data[0]\n",
    "    return data"
   ]
  },
  {
   "cell_type": "code",
   "execution_count": 4,
   "metadata": {},
   "outputs": [],
   "source": [
    "data = get_coordinates_list(cp_filepath)\n",
    "d = pd.DataFrame(data, columns=['longitude', 'latitude'])"
   ]
  },
  {
   "cell_type": "code",
   "execution_count": 5,
   "metadata": {},
   "outputs": [],
   "source": [
    "f = gpx.coordinates_dataframe_from_gpx(run2_filepath)"
   ]
  },
  {
   "cell_type": "code",
   "execution_count": 6,
   "metadata": {},
   "outputs": [],
   "source": [
    "df = f.assign(inside=lambda d: d.apply(polygon.row_inside_polygon, args=[data], axis=1))"
   ]
  },
  {
   "cell_type": "code",
   "execution_count": 7,
   "metadata": {},
   "outputs": [],
   "source": [
    "totals = polygon.twoD_total_inside_polygon(df)"
   ]
  },
  {
   "cell_type": "code",
   "execution_count": 8,
   "metadata": {},
   "outputs": [
    {
     "data": {
      "image/png": "[encoded data removed]",
      "text/plain": [
       "<Figure size 432x288 with 1 Axes>"
      ]
     },
     "metadata": {
      "needs_background": "light"
     },
     "output_type": "display_data"
    }
   ],
   "source": [
    "plt.plot(df['longitude'], df['latitude'], '.')\n",
    "plt.plot(df.loc[df['inside']]['longitude'], df.loc[df['inside']]['latitude'])\n",
    "plt.plot(d['longitude'], d['latitude'], '.')\n",
    "plt.show()"
   ]
  },
  {
   "cell_type": "code",
   "execution_count": 9,
   "metadata": {},
   "outputs": [
    {
     "data": {
      "text/plain": [
       "time_delta    0 days 00:50:55\n",
       "distance              10343.5\n",
       "dtype: object"
      ]
     },
     "execution_count": 9,
     "metadata": {},
     "output_type": "execute_result"
    }
   ],
   "source": [
    "totals"
   ]
  },
  {
   "cell_type": "code",
   "execution_count": 10,
   "metadata": {},
   "outputs": [],
   "source": [
    "def calculate_epoch(y, m, d):\n",
    "    return datetime.datetime(y, m, d, 0, 0, tzinfo=datetime.timezone.utc).timestamp()"
   ]
  },
  {
   "cell_type": "code",
   "execution_count": 11,
   "metadata": {},
   "outputs": [
    {
     "ename": "TypeError",
     "evalue": "calculate_epoch() missing 1 required positional argument: 'd'",
     "output_type": "error",
     "traceback": [
      "\u001b[0;31m---------------------------------------------------------------------------\u001b[0m",
      "\u001b[0;31mTypeError\u001b[0m                                 Traceback (most recent call last)",
      "\u001b[0;32m<ipython-input-11-f99d587dc481>\u001b[0m in \u001b[0;36m<module>\u001b[0;34m()\u001b[0m\n\u001b[0;32m----> 1\u001b[0;31m \u001b[0mcalculate_epoch\u001b[0m\u001b[0;34m(\u001b[0m\u001b[0;34m*\u001b[0m\u001b[0md\u001b[0m\u001b[0;34m)\u001b[0m\u001b[0;34m\u001b[0m\u001b[0;34m\u001b[0m\u001b[0m\n\u001b[0m",
      "\u001b[0;31mTypeError\u001b[0m: calculate_epoch() missing 1 required positional argument: 'd'"
     ]
    }
   ],
   "source": [
    "calculate_epoch(*d)"
   ]
  },
  {
   "cell_type": "code",
   "execution_count": null,
   "metadata": {},
   "outputs": [],
   "source": [
    "d = (2019, 9, 21)\n",
    "distance = int(totals['distance'])\n",
    "time = totals['time_delta'].seconds\n",
    "model.add_run_from_athlete('eileen', d, distance, time)"
   ]
  }
 ],
 "metadata": {
  "kernelspec": {
   "display_name": "venv",
   "language": "python",
   "name": "venv"
  },
  "language_info": {
   "codemirror_mode": {
    "name": "ipython",
    "version": 3
   },
   "file_extension": ".py",
   "mimetype": "text/x-python",
   "name": "python",
   "nbconvert_exporter": "python",
   "pygments_lexer": "ipython3",
   "version": "3.7.3"
  }
 },
 "nbformat": 4,
 "nbformat_minor": 2
}
