{
 "cells": [
  {
   "cell_type": "code",
   "execution_count": 1,
   "metadata": {},
   "outputs": [],
   "source": [
    "import matplotlib.pyplot as plt\n",
    "import pandas as pd\n",
    "import numpy as np\n",
    "import json\n",
    "\n",
    "from urllib.request import urlopen, Request\n",
    "from urllib.parse import urljoin, urlencode\n",
    "\n",
    "\n",
    "font = {'family' : 'normal',\n",
    "        'weight' : 'bold',\n",
    "        'size'   : 30}\n",
    "\n",
    "plt.rc('font', **font)"
   ]
  },
  {
   "cell_type": "code",
   "execution_count": 2,
   "metadata": {},
   "outputs": [],
   "source": [
    "class Client(object):\n",
    "    \"\"\"Encapsulated client. Used for\n",
    "    \"\"\"\n",
    "\n",
    "    @staticmethod\n",
    "    def get(url, payload=None, auth=None):\n",
    "        \"\"\"Performs a GET HTTP request.\n",
    "        :param url: The url.\n",
    "        :param payload: The parameters in a dictionary.\n",
    "        :param auth: A tuple containing username and password.\n",
    "        \"\"\"\n",
    "\n",
    "        if payload is None:\n",
    "            payload = {}\n",
    "\n",
    "        if auth is not None:\n",
    "            payload = merge_two_dicts(payload, auth)\n",
    "        full_url = '{}?{}'.format(url, urlencode(payload))\n",
    "\n",
    "\n",
    "        request = Request(full_url)\n",
    "\n",
    "        try:\n",
    "            response = urlopen(request)\n",
    "        except:\n",
    "            return e.code, None\n",
    "\n",
    "        return response.code, response.read()"
   ]
  },
  {
   "cell_type": "markdown",
   "metadata": {},
   "source": [
    "### Getting the results for all matches in a season"
   ]
  },
  {
   "cell_type": "code",
   "execution_count": 3,
   "metadata": {},
   "outputs": [],
   "source": [
    "from random import randint\n",
    "from time import sleep"
   ]
  },
  {
   "cell_type": "code",
   "execution_count": 4,
   "metadata": {},
   "outputs": [],
   "source": [
    "sw_seasons = {\n",
    "    2018: {1:192, 2: 221, 3: 201, 4: 222},\n",
    "    2017: {1: 154, 2: 157, 3: 160, 4: 191},\n",
    "    2016: {1: 126, 2: 129, 3: 132, 4: 135},\n",
    "    2015: {1: 98, 2: 101, 3: 104, 4: 107},\n",
    "    2014: {1:25, 2: 28, 3: 31, 4: 34},\n",
    "}\n",
    "\n",
    "sm_seasons = {\n",
    "    2018: {1: 205, 2: 207, 3: 209, 4: 211},\n",
    "    2017: {1: 167, 2: 169, 3: 171, 4: 173},\n",
    "    2016: {1: 139, 2: 141, 3: 143, 4: 145},\n",
    "    2015: {1: 111, 2: 113, 3: 115, 4: 117},\n",
    "    2014: {1: 68, 2: 73, 3: 76, 4: 79},\n",
    "}\n",
    "\n",
    "clubColors = {\n",
    "    'HHH': '#9c1e14',\n",
    "    'THH': '#ffffff',\n",
    "    'H/W': '#fffe54',\n",
    "    'DUL': '#FF8C00',\n",
    "    'FUL': '#0a0b0d',\n",
    "    'BEL': '#9e3231',\n",
    "    'RAN': '#0a37c4',\n",
    "    'C/C': '#408559',\n",
    "    'KEN': '#4babe9',\n",
    "    'SLH': '#671109',\n",
    "    'E&E': '#ee4024',\n",
    "    'REI': '#a7342e',\n",
    "    'W4H': '#f2e94d',\n",
    "    'ADV': '#ff00ff',\n",
    "    'G&G': '#4df297'\n",
    "}"
   ]
  },
  {
   "cell_type": "code",
   "execution_count": 6,
   "metadata": {},
   "outputs": [],
   "source": [
    "def getMatchRaceResults(match_id):\n",
    "    _, data = Client.get(f\"https://surreyleague.org/sll/race/{match_id}/json/\")\n",
    "    return json.loads(data.decode('utf-8'))\n",
    "\n",
    "def matchResultsDataFrame(match_id):\n",
    "    return pd.DataFrame.from_dict(getMatchRaceResults(match_id)['positions'])"
   ]
  },
  {
   "cell_type": "code",
   "execution_count": 7,
   "metadata": {},
   "outputs": [],
   "source": [
    "results_list = []\n",
    "season_json = {}\n",
    "\n",
    "for s, i in sw_seasons.items():\n",
    "    season_json[s] = {}\n",
    "    for m, match_id in i.items():\n",
    "        season_json[s][m] = getMatchRaceResults(match_id)\n",
    "        sleep(randint(1,10))"
   ]
  },
  {
   "cell_type": "markdown",
   "metadata": {},
   "source": [
    "### Now munging the results into the format that I want:"
   ]
  },
  {
   "cell_type": "markdown",
   "metadata": {},
   "source": [
    "#### Runners per club per season"
   ]
  },
  {
   "cell_type": "code",
   "execution_count": null,
   "metadata": {},
   "outputs": [],
   "source": [
    "totalUniqueRunners = (\n",
    "    df\n",
    "    .assign(name=df['givenName'].str.lower() + ' ' + df['familyName'].str.lower())\n",
    "    .groupby(['season', 'club'])\n",
    "    .agg({'name': lambda s: s.nunique()})\n",
    "    .reset_index()\n",
    "    \n",
    ")"
   ]
  },
  {
   "cell_type": "code",
   "execution_count": null,
   "metadata": {},
   "outputs": [],
   "source": [
    "uniqueRunners = []\n",
    "for c in clubColors.keys():\n",
    "    uniqueRunners.append(\n",
    "        totalUniqueRunners.loc[lambda d: d['club'] == c]\n",
    "        .merge(\n",
    "            pd.DataFrame([[2018, 1], [2017, 1], [2016, 1], [2015, 1], [2014, 1]], columns=['season', 'check']),\n",
    "            on=['season'], how='right'\n",
    "        )\n",
    "        .fillna({'club': c, 'name': 0})\n",
    "        .drop(columns={'check'})\n",
    "        .rename(columns={'name': 'count'})\n",
    "    )\n",
    "    \n",
    "totalRunners = pd.concat(uniqueRunners).sort_values(['season', 'club'])"
   ]
  },
  {
   "cell_type": "code",
   "execution_count": null,
   "metadata": {},
   "outputs": [],
   "source": [
    "fig, ax = plt.subplots(figsize=(16,7))  \n",
    "\n",
    "clubs = totalRunners['club'].drop_duplicates()\n",
    "margin_bottom = np.zeros(len(totalRunners['season'].drop_duplicates()))\n",
    "colors = [\"#006D2C\", \"#31A354\",\"#74C476\"]\n",
    "\n",
    "for num, club in enumerate(clubs):\n",
    "    values = list(totalRunners[totalRunners['club'] == club].loc[:, 'count'])\n",
    "\n",
    "    totalRunners[totalRunners['club'] == club].plot.bar(x='season',y='count', ax=ax, stacked=True, \n",
    "                                                        bottom = margin_bottom, \n",
    "                                                        color=clubColors[club], \n",
    "                                                        label=club, edgecolor='black')\n",
    "    margin_bottom += values\n",
    "\n",
    "plt.title(\"Number of unique runners per team for Surrey League seasons\")\n",
    "plt.legend(ncol = 3)\n",
    "plt.show()"
   ]
  },
  {
   "cell_type": "markdown",
   "metadata": {},
   "source": [
    "### Calculating score per team per season"
   ]
  },
  {
   "cell_type": "code",
   "execution_count": null,
   "metadata": {},
   "outputs": [],
   "source": [
    "season_results = (\n",
    "    df.loc[lambda d: d['club'].isin(clubColors.keys())]\n",
    "    .groupby(['season', 'match', 'club'])[['rank']]\n",
    "    .nth([0, 1, 2, 3, 4])\n",
    "    .groupby(['season', 'club'])[['rank']].sum()\n",
    "    .reset_index()\n",
    ")"
   ]
  },
  {
   "cell_type": "code",
   "execution_count": null,
   "metadata": {},
   "outputs": [],
   "source": [
    "f, ax = plt.subplots(1, figsize=(18, 6))\n",
    "\n",
    "for c in ['HHH', 'THH', 'C/C', 'FUL', 'RAN', 'BEL', 'SLH', 'KEN', 'H/W']:\n",
    "    y = season_results.loc[lambda d: d['club'] == c]\n",
    "    ax.plot(\n",
    "        y['season'], y['rank'], \n",
    "        '-o', markersize='15', markeredgecolor='black',\n",
    "        label=c, color=clubColors[c])\n",
    "plt.show()"
   ]
  },
  {
   "cell_type": "markdown",
   "metadata": {},
   "source": [
    "H/W Seasons:"
   ]
  },
  {
   "cell_type": "code",
   "execution_count": null,
   "metadata": {},
   "outputs": [],
   "source": [
    "hwSeasons = df.loc[lambda d: (d['club'] == 'H/W')].reset_index(drop=True)\n",
    "hwSeasons = (\n",
    "    hwSeasons\n",
    "    .join(hwSeasons.groupby(['season', 'match'])[['rank']].rank(ascending=True).rename(columns={'rank':'teamPosition'}))\n",
    "    .assign(name=lambda d: d['givenName'].str.lower() + ' ' + d['familyName'].str.lower())\n",
    ")"
   ]
  },
  {
   "cell_type": "code",
   "execution_count": null,
   "metadata": {},
   "outputs": [],
   "source": [
    "fig, ax = plt.subplots(figsize=(14,7)) \n",
    "\n",
    "matches = hwSeasons['match'].drop_duplicates()\n",
    "margin_bottom = np.zeros(len(hwSeasons['season'].drop_duplicates()))\n",
    "colors = [\"#900C3F\", \"#C70039\", \"#FF5733\", \"#FFC300\"]\n",
    "\n",
    "for num, match in enumerate(matches):\n",
    "    matchResult = hwSeasons[(hwSeasons['match'] == match) & (hwSeasons['teamPosition'] <= 5)].groupby(['season'])[['rank']].sum().reset_index()\n",
    "    values = list(matchResult['rank'])\n",
    "\n",
    "    matchResult.plot.bar(x='season',y='rank', ax=ax,\n",
    "                         stacked=True, \n",
    "                         bottom=margin_bottom, \n",
    "                         color=colors[num], label=f\"Match {match}\")\n",
    "    margin_bottom += values\n",
    "\n",
    "plt.title(\"Total season score (split into matches) for HW throughout the seasons\")\n",
    "plt.ylabel(\"Match Score\")\n",
    "plt.show()"
   ]
  },
  {
   "cell_type": "code",
   "execution_count": null,
   "metadata": {},
   "outputs": [],
   "source": [
    "f, ax = plt.subplots(1, figsize=(8, 16))\n",
    "\n",
    "seasonAverages = (\n",
    "    hwSeasons.loc[lambda d: d['name'].isin(hwSeasons[hwSeasons['season'] == 2018]['name'].unique())]\n",
    "    .groupby(['name', 'season']).agg({'rank': 'mean', 'perf': 'count'})\n",
    "    .unstack()['rank']\n",
    "    .sort_values(2018, ascending=True)\n",
    ")\n",
    "\n",
    "colors = ['C0', 'C1', 'C2', 'C3', 'C4']\n",
    "\n",
    "for s, c in zip([2014, 2015, 2016, 2017, 2018], colors):\n",
    "    plt.plot(seasonAverages[s], seasonAverages.index, '.', markersize=15, color=c, label=f\"season {s}\")\n",
    "plt.legend()\n",
    "plt.show()"
   ]
  },
  {
   "cell_type": "markdown",
   "metadata": {},
   "source": [
    "Unique H/W runners in the season:"
   ]
  },
  {
   "cell_type": "code",
   "execution_count": null,
   "metadata": {},
   "outputs": [],
   "source": [
    "thisSeason['name'].unique()"
   ]
  },
  {
   "cell_type": "markdown",
   "metadata": {},
   "source": [
    "# A team scorers"
   ]
  },
  {
   "cell_type": "code",
   "execution_count": null,
   "metadata": {},
   "outputs": [],
   "source": [
    "lastSeason.loc[lambda d: d['teamPosition'] <= 5]['name'].unique()"
   ]
  },
  {
   "cell_type": "code",
   "execution_count": null,
   "metadata": {},
   "outputs": [],
   "source": [
    "thisSeason.loc[lambda d: d[]]"
   ]
  },
  {
   "cell_type": "markdown",
   "metadata": {},
   "source": [
    "# B team scorers"
   ]
  },
  {
   "cell_type": "code",
   "execution_count": null,
   "metadata": {},
   "outputs": [],
   "source": [
    "thisSeason.loc[lambda d: (d['teamPosition'] > 5) & (d['teamPosition'] <= 10)]['name'].unique()"
   ]
  },
  {
   "cell_type": "code",
   "execution_count": null,
   "metadata": {},
   "outputs": [],
   "source": [
    "(\n",
    "    thisSeason\n",
    "    .groupby(['name'])\n",
    "    .agg({'perf': 'count'})\n",
    "    .sort_values('perf', ascending=False)\n",
    ")"
   ]
  },
  {
   "cell_type": "markdown",
   "metadata": {},
   "source": [
    "### SEAA Road Relayds 2019"
   ]
  },
  {
   "cell_type": "code",
   "execution_count": null,
   "metadata": {},
   "outputs": [],
   "source": [
    "def get_seconds(t):\n",
    "    time = [int(i) for i in t.split(':')]\n",
    "    return time[0] * 60 + time[1]"
   ]
  },
  {
   "cell_type": "code",
   "execution_count": null,
   "metadata": {},
   "outputs": [],
   "source": [
    "dataLong = pd.read_csv(\"/Users/eileentoomer/Downloads/seaaLongLegs2019.csv\")\n",
    "dataShort = pd.read_csv(\"/Users/eileentoomer/Downloads/seaaShortLegs2019.csv\")\n",
    "\n",
    "plt.style.use('seaborn')"
   ]
  },
  {
   "cell_type": "code",
   "execution_count": null,
   "metadata": {},
   "outputs": [],
   "source": [
    "data = (\n",
    "    pd.concat([dataLong.assign(long=True), dataShort.assign(long=False)])\n",
    "    .assign(seconds=lambda d: d['time'].apply(get_seconds))\n",
    "    .reset_index(drop=True)\n",
    ")"
   ]
  },
  {
   "cell_type": "code",
   "execution_count": null,
   "metadata": {},
   "outputs": [],
   "source": [
    "teamRank = (\n",
    "    data.groupby('team')['seconds']\n",
    "    .agg([np.sum, 'count'])\n",
    "    .loc[lambda d: d['count'] == 12]\n",
    "    .rank(ascending=True)\n",
    "    .rename(columns={'sum': 'rank'})['rank']\n",
    ")"
   ]
  },
  {
   "cell_type": "code",
   "execution_count": null,
   "metadata": {},
   "outputs": [],
   "source": [
    "f, ax = plt.subplots(1, 2, figsize=(16, 6), sharey=True)\n",
    "for i, a in zip([True, False], ax):\n",
    "    a.hist(data.loc[lambda d: d['long'] == i]['seconds'] / 60, bins=25, color='C3')\n",
    "    title = 'Time Long Legs' if i else 'Time Short Legs'\n",
    "    a.set(title=title, xlabel='Time (mins)', ylabel='Number of runners')\n",
    "    \n",
    "for i, row in data.loc[lambda d: d['team'].str.contains('Hercules Wimbledon')].iterrows():\n",
    "    c = 'red' if row['team'] == 'Hercules Wimbledon AC \"A\"' else 'yellow'\n",
    "    alpha = 1 if row['team'] == 'Hercules Wimbledon AC \"A\"' else 0\n",
    "    if row['long']:\n",
    "        ax[0].axvline(row['seconds'] / 60, color=c, alpha=alpha)\n",
    "    else:\n",
    "        ax[1].axvline(row['seconds'] / 60, color=c, alpha=alpha)    \n",
    "plt.show()"
   ]
  },
  {
   "cell_type": "code",
   "execution_count": null,
   "metadata": {},
   "outputs": [],
   "source": [
    "grouped_data = (\n",
    "    data\n",
    "    .groupby(['long', 'team'])['seconds']\n",
    "    .agg([pd.np.min, pd.np.max, pd.np.mean])\n",
    "    .join(teamRank)\n",
    "    .loc[lambda d: ~d['rank'].isnull()]\n",
    "    .sort_values('rank', ascending=False)\n",
    ")"
   ]
  },
  {
   "cell_type": "code",
   "execution_count": null,
   "metadata": {},
   "outputs": [],
   "source": [
    "def plotMeanMinMaxOfTeams(ax, data):\n",
    "    for i, row in data.iterrows():\n",
    "        c=f'C{i % 10}'\n",
    "        x = [row['amin'] / 60, row['amax'] / 60]\n",
    "        y = [row['team']] * 2\n",
    "        ax.plot(x, y, 'o-', markersize=5, color=c)\n",
    "        ax.plot(row['mean'] / 60, i, 's', markersize=10, color=c)\n",
    "    return ax"
   ]
  },
  {
   "cell_type": "code",
   "execution_count": null,
   "metadata": {},
   "outputs": [],
   "source": [
    "f, ax = plt.subplots(1, 2, figsize=(12, 12), sharey=True)\n",
    "\n",
    "plotMeanMinMaxOfTeams(ax[0], grouped_data.loc[True].loc[lambda d: d['rank'] <= 40].reset_index())\n",
    "ax[0].set(title='Long legs min/mean/max time (mins)')\n",
    "plotMeanMinMaxOfTeams(ax[1], grouped_data.loc[False].loc[lambda d: d['rank'] <= 40].reset_index())\n",
    "ax[1].set(title='Short legs min/mean/max time (mins)')\n",
    "plt.show()"
   ]
  },
  {
   "cell_type": "code",
   "execution_count": null,
   "metadata": {},
   "outputs": [],
   "source": [
    "clubs = ['Belgrave Harriers', 'Bedford & County AC \"A\"', 'Hercules Wimbledon AC \"A\"', 'Highgate Harriers \"A\"']"
   ]
  },
  {
   "cell_type": "markdown",
   "metadata": {},
   "source": [
    "### Testing all figures"
   ]
  },
  {
   "cell_type": "code",
   "execution_count": null,
   "metadata": {},
   "outputs": [],
   "source": [
    "import gviz_api\n",
    "import pandas as pd\n",
    "import numpy as np"
   ]
  },
  {
   "cell_type": "code",
   "execution_count": null,
   "metadata": {},
   "outputs": [],
   "source": [
    "def get_minutes(t):\n",
    "    \"\"\"\n",
    "    Function turns string time to number of minutes\n",
    "    :param t: String in time format mm:ss\n",
    "    :return: Time as number of seconds\n",
    "    \"\"\"\n",
    "    time = [int(i) for i in t.split(':')]\n",
    "    return time[0] + time[1] / 60\n",
    "\n",
    "\n",
    "def getAllData():\n",
    "    dataLong = pd.read_csv(\"/Users/eileentoomer/Downloads/womenSEAALongLegs.csv\")\n",
    "    dataShort = pd.read_csv(\"/Users/eileentoomer/Downloads/womenSEAAShortLegs.csv\")\n",
    "\n",
    "    return (\n",
    "        pd.concat([dataLong.assign(long=True), dataShort.assign(long=False)])\n",
    "        .assign(minutes=lambda d: d['time'].apply(get_minutes))\n",
    "        .assign(team=lambda d: d['team'].pipe(stripSpeechMarksFromClubs))\n",
    "        .reset_index(drop=True)\n",
    "    )\n",
    "\n",
    "\n",
    "def getTeamRanksFromRace(data, count):\n",
    "    \"\"\"\n",
    "    Returns the ranking positions of all teams that finished (i.e. had 12 runners)\n",
    "    :param data: Dataframe containing team/seconds\n",
    "    :return:\n",
    "    \"\"\"\n",
    "    return (\n",
    "        data.groupby('team')['minutes']\n",
    "        .agg([np.sum, 'count'])\n",
    "        .loc[lambda d: d['count'] == count]\n",
    "        .rank(ascending=False)\n",
    "        .rename(columns={'sum': 'rank'})[['rank']]\n",
    "        .reset_index()\n",
    "    )\n",
    "\n",
    "\n",
    "def teamRankToDict(teamRanks):\n",
    "    return pd.Series(teamRanks['rank'].values, index=teamRanks['team']).to_dict()\n",
    "\n",
    "\n",
    "def getRunnerLegRanking(data):\n",
    "    return data.groupby(['long'])['minutes'].rank(ascending=True).rename('legRank')\n",
    "\n",
    "def stripSpeechMarksFromClubs(clubs):\n",
    "    return clubs.str.replace('\"', '')\n",
    "\n",
    "\n",
    "def getTeamResults():\n",
    "    data = getAllData()\n",
    "    teams = getTeamRanksFromRace(data, 6)\n",
    "    runners = getRunnerLegRanking(data)\n",
    "    return data.join(runners).merge(teams, on='team')"
   ]
  },
  {
   "cell_type": "code",
   "execution_count": null,
   "metadata": {},
   "outputs": [],
   "source": [
    "def getResultsStringByLegLength(df, long=True):\n",
    "    jsData = []\n",
    "\n",
    "    for c in df['team'].unique():\n",
    "        rename_dict = {'rank': c, \"name\": f\"name {c}\"}\n",
    "        jsData.append(\n",
    "            df.assign(name=lambda d: d['name'] + \" (\" + d['time'].str[:5] + \")\")\n",
    "            .loc[lambda d: (d['team'] == c) & (d['long'] == long)][['minutes', 'rank', 'name']].rename(columns=rename_dict))\n",
    "        \n",
    "    return pd.concat(jsData, sort=False)\n",
    "\n",
    "\n",
    "def generateResultsStringForLegs(data, long):\n",
    "    jsDataFrame = getResultsStringByLegLength(df, long)\n",
    "    cols = [(i, \"string\") if \"name\" in i else (i, 'number') for i in list(jsDataFrame)]\n",
    "    \n",
    "    data_table = gviz_api.DataTable(cols)\n",
    "    data_table.LoadData(list(jsDataFrame.itertuples(index=False, name=None)))\n",
    "    \n",
    "    return data_table.ToJSon().replace('NaN', 'null').replace('\"nan\"', 'null')\n",
    "\n",
    "\n",
    "def getTeamRankDictionary(teamRank):\n",
    "    teamRankArrayDict = []\n",
    "    for i, row in teamRank.iterrows():\n",
    "        t = row['team']\n",
    "        teamRankArrayDict.append({\"v\": row['rank'], \"f\": f'{t}'})\n",
    "    return teamRankArrayDict"
   ]
  },
  {
   "cell_type": "code",
   "execution_count": null,
   "metadata": {},
   "outputs": [],
   "source": [
    "df = getTeamResults()"
   ]
  },
  {
   "cell_type": "code",
   "execution_count": null,
   "metadata": {},
   "outputs": [],
   "source": [
    "longLegs = generateResultsStringForLegs(df, True)\n",
    "shortLegs = generateResultsStringForLegs(df, False)"
   ]
  },
  {
   "cell_type": "code",
   "execution_count": null,
   "metadata": {},
   "outputs": [],
   "source": []
  },
  {
   "cell_type": "code",
   "execution_count": null,
   "metadata": {},
   "outputs": [],
   "source": [
    "stackedBoxChart = (\n",
    "    df[['team', 'leg', 'minutes', 'name', 'rank']]\n",
    "    .groupby(['team', 'leg'])\n",
    "    .agg({'minutes': 'mean', 'name': 'max', 'rank': 'max'})\n",
    "    .unstack('leg')\n",
    "    .sort_values(('rank', 1), ascending=False)\n",
    ")"
   ]
  },
  {
   "cell_type": "code",
   "execution_count": null,
   "metadata": {},
   "outputs": [],
   "source": [
    "resultsData = []\n",
    "cols = []\n",
    "\n",
    "for i, row in stackedBoxChart.iterrows():\n",
    "    l = [i]\n",
    "    for j in range(6):\n",
    "        l.append(row['minutes'][j + 1])\n",
    "        # l.append(row['name'][j + 1])\n",
    "    resultsData.append(tuple(l))\n",
    "    "
   ]
  },
  {
   "cell_type": "code",
   "execution_count": null,
   "metadata": {},
   "outputs": [],
   "source": [
    "cols = [('team', 'string')]\n",
    "for i in range(6):\n",
    "    cols.append((f\"Time leg {i + 1}\", \"number\"))\n",
    "    #cols.append((\"runner\", \"string\", \"role : tooltip\"))"
   ]
  },
  {
   "cell_type": "code",
   "execution_count": null,
   "metadata": {},
   "outputs": [],
   "source": [
    "data_table = gviz_api.DataTable(cols)\n",
    "data_table.LoadData(list(resultsData))"
   ]
  },
  {
   "cell_type": "code",
   "execution_count": null,
   "metadata": {},
   "outputs": [],
   "source": [
    "data_table.ToJSon()"
   ]
  },
  {
   "cell_type": "code",
   "execution_count": null,
   "metadata": {},
   "outputs": [],
   "source": [
    "c = ['Genre', 'Fantasy & Sci Fi', 'Romance', 'Mystery/Crime', 'General', 'Western', 'Literature']\n",
    "\n",
    "col = [(i, 'number') if i != 'Genre' else (i, 'string') for i in c]\n",
    "\n",
    "rows = [('2010', 10, 24, 20, 32, 18, 5), ('2020', 16, 22, 23, 30, 16, 9), ('2030', 28, 19, 29, 30, 12, 13)]\n",
    "      "
   ]
  },
  {
   "cell_type": "code",
   "execution_count": null,
   "metadata": {},
   "outputs": [],
   "source": [
    "data_table_test = gviz_api.DataTable(cols)\n",
    "data_table_test.LoadData(rows)"
   ]
  },
  {
   "cell_type": "code",
   "execution_count": null,
   "metadata": {},
   "outputs": [],
   "source": [
    "data_table_test.ToJSon()"
   ]
  }
 ],
 "metadata": {
  "kernelspec": {
   "display_name": "Python 3",
   "language": "python",
   "name": "python3"
  },
  "language_info": {
   "codemirror_mode": {
    "name": "ipython",
    "version": 3
   },
   "file_extension": ".py",
   "mimetype": "text/x-python",
   "name": "python",
   "nbconvert_exporter": "python",
   "pygments_lexer": "ipython3",
   "version": "3.7.0"
  }
 },
 "nbformat": 4,
 "nbformat_minor": 2
}
