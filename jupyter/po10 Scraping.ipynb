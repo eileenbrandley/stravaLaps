{
 "cells": [
  {
   "cell_type": "code",
   "execution_count": 1,
   "metadata": {},
   "outputs": [],
   "source": [
    "import urllib.request\n",
    "from bs4 import BeautifulSoup\n",
    "import pandas as pd\n",
    "import numpy as np\n",
    "from random import randint\n",
    "from time import sleep\n",
    "import json"
   ]
  },
  {
   "cell_type": "code",
   "execution_count": 2,
   "metadata": {},
   "outputs": [],
   "source": [
    "def get_page_html(url):\n",
    "    page = urllib.request.urlopen(url)\n",
    "    return BeautifulSoup(page, 'html.parser')\n",
    "\n",
    "\n",
    "def get_rankings_table(soup):\n",
    "    return soup.find(attrs={'id': 'pnlMainRankings'})\n",
    "\n",
    "\n",
    "def get_ranking_list_headings(rankings_table):\n",
    "    headings = rankings_table.find(attrs={'class': 'rankinglistheadings'})\n",
    "    myHeadings = headings.findAll('td')\n",
    "    return [i.text for i in myHeadings]\n",
    "\n",
    "\n",
    "def get_rows_of_results(soup):\n",
    "    rows = []\n",
    "    for r in ['rlr', 'rlra']:\n",
    "        for row in soup.findAll(attrs={'class': r}):\n",
    "            rows.append([i.text for i in row])\n",
    "    return rows\n",
    "\n",
    "\n",
    "def get_number_of_seconds(chip_time):\n",
    "    t = chip_time.split(':')\n",
    "    if len(t) > 2:\n",
    "        return sum([float(i)*t for (i, t) in zip(t, [60*60, 60, 1])])\n",
    "    else:\n",
    "        return sum([float(i)*t for (i, t) in zip(t, [60, 1])])"
   ]
  },
  {
   "cell_type": "code",
   "execution_count": 3,
   "metadata": {},
   "outputs": [],
   "source": [
    "def construct_url(year, event=\"Mar\", sex=\"W\"):\n",
    "    return f\"https://thepowerof10.info/rankings/rankinglist.aspx?event={event}&agegroup=ALL&sex={sex}&year={year}\""
   ]
  },
  {
   "cell_type": "code",
   "execution_count": 4,
   "metadata": {},
   "outputs": [],
   "source": [
    "def get_results_for_event_year(event, year, gender='W'):\n",
    "    page_url = construct_url(year, event, gender)\n",
    "    \n",
    "    soup = get_page_html(page_url)\n",
    "    rankings_table = get_rankings_table(soup)\n",
    "    column_names = get_ranking_list_headings(rankings_table)\n",
    "    rows = get_rows_of_results(soup)\n",
    "    return (\n",
    "        pd.DataFrame(rows, columns=column_names)\n",
    "        .rename(columns={'Perf': 'Chip'})\n",
    "        .loc[lambda d: d.reset_index()['Rank'] != '']\n",
    "        .assign(time=lambda d: d['Chip'].apply(get_number_of_seconds))\n",
    "        .sort_values('time')\n",
    "        .set_index('Rank')\n",
    "    )"
   ]
  },
  {
   "cell_type": "code",
   "execution_count": 10,
   "metadata": {},
   "outputs": [],
   "source": [
    "def get_year_results_array(df):\n",
    "    obs = []\n",
    "    cols_to_keep = ['Rank', 'Name', 'Club', 'Date', 'Chip', 'time']\n",
    "    for i, row in df.reset_index().iterrows():\n",
    "        obs.append(row[cols_to_keep].to_dict())\n",
    "    return obs"
   ]
  },
  {
   "cell_type": "code",
   "execution_count": 11,
   "metadata": {},
   "outputs": [],
   "source": [
    "def get_rankings_for_event(event, gender, years=[2019, 2018, 2017, 2016, 2015, 2014, 2013, 2012, 2011, 2010]):\n",
    "\n",
    "    results_dict = {}\n",
    "    results_list = []\n",
    "\n",
    "    for y in years:\n",
    "        df = get_results_for_event_year(event, y, gender).rename(columns={'Perf': 'Chip'})\n",
    "        results_dict[y] = get_year_results_array(df)\n",
    "        sleep(randint(1,10))\n",
    "    return results_dict\n",
    "\n",
    "def save_results_json(event, gender='W'):\n",
    "    results_dict = get_rankings_for_event(event, gender)\n",
    "    if gender == 'W':\n",
    "        with open(f'/Users/eileentoomer/Code/runningData/src/runningData/data/{event}Rankings.json', 'w') as fp:\n",
    "            json.dump(results_dict, fp)\n",
    "    else:\n",
    "        with open(f'/Users/eileentoomer/Code/runningData/src/runningData/data/{event}RankingsMen.json', 'w') as fp:\n",
    "            json.dump(results_dict, fp)\n",
    "        "
   ]
  },
  {
   "cell_type": "code",
   "execution_count": 20,
   "metadata": {},
   "outputs": [],
   "source": [
    "save_results_json('Mar')"
   ]
  }
 ],
 "metadata": {
  "kernelspec": {
   "display_name": "Python 3",
   "language": "python",
   "name": "python3"
  },
  "language_info": {
   "codemirror_mode": {
    "name": "ipython",
    "version": 3
   },
   "file_extension": ".py",
   "mimetype": "text/x-python",
   "name": "python",
   "nbconvert_exporter": "python",
   "pygments_lexer": "ipython3",
   "version": "3.7.3"
  }
 },
 "nbformat": 4,
 "nbformat_minor": 2
}
